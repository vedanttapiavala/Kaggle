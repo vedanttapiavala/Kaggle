{
  "nbformat": 4,
  "nbformat_minor": 0,
  "metadata": {
    "colab": {
      "provenance": [],
      "authorship_tag": "ABX9TyMM225uG0sfhbWQLnULAIsl",
      "include_colab_link": true
    },
    "kernelspec": {
      "name": "python3",
      "display_name": "Python 3"
    },
    "language_info": {
      "name": "python"
    }
  },
  "cells": [
    {
      "cell_type": "markdown",
      "metadata": {
        "id": "view-in-github",
        "colab_type": "text"
      },
      "source": [
        "<a href=\"https://colab.research.google.com/github/vedanttapiavala/Kaggle/blob/main/Titanic_Kaggle.ipynb\" target=\"_parent\"><img src=\"https://colab.research.google.com/assets/colab-badge.svg\" alt=\"Open In Colab\"/></a>"
      ]
    },
    {
      "cell_type": "markdown",
      "source": [
        "## Broad Overview:\n",
        "\n",
        "*   Current Public Score: 0.76076\n",
        "*   Decision Tree Classifier with Hyperparameters\n",
        "*   N/A values in Age filled with an additional prediction model\n",
        "\n"
      ],
      "metadata": {
        "id": "qubndou3ZZwl"
      }
    },
    {
      "cell_type": "markdown",
      "source": [
        "##Google Drive Permissions for Colab"
      ],
      "metadata": {
        "id": "JqHZM2pO0cqi"
      }
    },
    {
      "cell_type": "code",
      "source": [
        "from google.colab import drive\n",
        "drive.mount('/content/drive')"
      ],
      "metadata": {
        "colab": {
          "base_uri": "https://localhost:8080/"
        },
        "id": "YD57lJwl0cbZ",
        "outputId": "87bc14cb-a774-43f3-bb16-4a1f30d58603"
      },
      "execution_count": 3,
      "outputs": [
        {
          "output_type": "stream",
          "name": "stdout",
          "text": [
            "Mounted at /content/drive\n"
          ]
        }
      ]
    },
    {
      "cell_type": "markdown",
      "source": [
        "# Kaggle Competition Submission\n",
        "(Score: 0.76076):"
      ],
      "metadata": {
        "id": "LiZ6NZHd8tpx"
      }
    },
    {
      "cell_type": "code",
      "source": [
        "import pandas as pd\n",
        "from sklearn.tree import DecisionTreeClassifier\n",
        "from sklearn.model_selection import train_test_split, GridSearchCV\n",
        "from sklearn.metrics import accuracy_score\n",
        "\n",
        "file_path = '/content/drive/My Drive/titanic training data.csv'\n",
        "\n",
        "df = pd.read_csv(file_path)\n",
        "# Drops all NA ages (one of the main issues in the training dataset); this is a simplification\n",
        "df = df.dropna(subset=[\"Age\"]).drop_duplicates().dropna(subset=[\"Sex\"])\n",
        "df['Sex'] = df['Sex'].replace({\"male\":0, \"female\":1})\n",
        "# Passenger ID, Name, Embarked, Cabin, and Ticket shouldn't matter to survival\n",
        "input = df.drop(columns=[\"PassengerId\", \"Survived\", \"Name\", \"Ticket\", \"Cabin\", \"Embarked\"])\n",
        "output = df[\"Survived\"]\n",
        "param_grid = {\n",
        "    'max_depth': [3, 5, 7, 10],\n",
        "    'min_samples_split': [2, 5, 10],\n",
        "    'min_samples_leaf': [1, 2, 4]\n",
        "}\n",
        "model = DecisionTreeClassifier()\n",
        "grid_search = GridSearchCV(model, param_grid, cv=5)\n",
        "grid_search.fit(input, output)\n",
        "model = grid_search.best_estimator_\n",
        "\n",
        "testData = pd.read_csv(\"/content/drive/My Drive/titanic test data.csv\")\n",
        "testData['Sex'] = testData['Sex'].replace({\"male\":0, \"female\":1})\n",
        "testInput = testData.drop(columns=[\"PassengerId\", \"Name\",\"Ticket\",\"Cabin\",\"Embarked\"])\n",
        "# MASSIVE simplifying assumption with any NA age being the mean age of the remaining testing dataset; will have to change in future submissions\n",
        "testInput['Age'] = testInput['Age'].fillna(30.272590)\n",
        "# Another (smaller since only 1 NA in Fare) simplifying assumption that the NA had no fare\n",
        "testInput['Fare'] = testInput['Fare'].fillna(0)\n",
        "prediction_data = pd.DataFrame(testInput, columns=input.columns)\n",
        "\n",
        "predictions = model.predict(prediction_data)\n",
        "predictions_df = pd.DataFrame(predictions, columns=[\"Survived\"])\n",
        "predictions_df[\"PassengerId\"] = testData['PassengerId']\n",
        "predictions_df = predictions_df[['PassengerId', 'Survived']]\n",
        "predictions_df.to_csv('/content/drive/My Drive/predictions.csv', index=False)"
      ],
      "metadata": {
        "id": "m-xzaXzC8taW"
      },
      "execution_count": 6,
      "outputs": []
    }
  ]
}
